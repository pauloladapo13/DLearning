{
  "nbformat": 4,
  "nbformat_minor": 0,
  "metadata": {
    "colab": {
      "name": "handwrittenDigits1.ipynb",
      "provenance": [],
      "authorship_tag": "ABX9TyNxYygOKwtuUHi5jH1XGquR",
      "include_colab_link": true
    },
    "kernelspec": {
      "name": "python3",
      "display_name": "Python 3"
    },
    "language_info": {
      "name": "python"
    }
  },
  "cells": [
    {
      "cell_type": "markdown",
      "metadata": {
        "id": "view-in-github",
        "colab_type": "text"
      },
      "source": [
        "<a href=\"https://colab.research.google.com/github/pauloladapo13/DLearning/blob/master/handwrittenDigits1.ipynb\" target=\"_parent\"><img src=\"https://colab.research.google.com/assets/colab-badge.svg\" alt=\"Open In Colab\"/></a>"
      ]
    },
    {
      "cell_type": "code",
      "execution_count": 2,
      "metadata": {
        "id": "ifgJd9Ip0QRD",
        "colab": {
          "base_uri": "https://localhost:8080/",
          "height": 265
        },
        "outputId": "741be4ae-d758-4c59-c8fd-1e618361308c"
      },
      "outputs": [
        {
          "output_type": "display_data",
          "data": {
            "text/plain": [
              "<Figure size 432x288 with 1 Axes>"
            ],
            "image/png": "[encoded data removed]"
          },
          "metadata": {
            "needs_background": "light"
          }
        }
      ],
      "source": [
        "import numpy as np\n",
        "import matplotlib.pyplot as plt\n",
        "%matplotlib inline\n",
        "def loadImageFile(fileImage):\n",
        "    f = open(fileImage, \"rb\")\n",
        "\n",
        "    f.read(16)\n",
        "    pixels = 28*28\n",
        "    images_arr = []\n",
        "    while True:\n",
        "        try:\n",
        "            img = []\n",
        "            for j in range(pixels):\n",
        "                pix = ord(f.read(1))\n",
        "                img.append(pix/255)\n",
        "            images_arr.append(img)\n",
        "        except:\n",
        "            break\n",
        "\n",
        "    f.close()\n",
        "    image_sets = np.array(images_arr)\n",
        "    return image_sets\n",
        "\n",
        "test_images= loadImageFile(\"t10k-images-idx3-ubyte\")\n",
        "\n",
        "def gen_image(arr):\n",
        "    two_d = (np.reshape(arr, (28, 28))* 255).astype(np.uint8)\n",
        "    plt.imshow(two_d, interpolation='nearest', cmap='gray')\n",
        "    plt.show()\n",
        "    return\n",
        "\n",
        "gen_image(test_images[0])\n"
      ]
    }
  ]
}