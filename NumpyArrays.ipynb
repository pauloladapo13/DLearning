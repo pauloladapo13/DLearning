{
  "nbformat": 4,
  "nbformat_minor": 0,
  "metadata": {
    "colab": {
      "name": "NumpyArrays.ipynb",
      "provenance": [],
      "authorship_tag": "ABX9TyO1/72Z0Is/+cmCS4Ykrepf",
      "include_colab_link": true
    },
    "kernelspec": {
      "name": "python3",
      "display_name": "Python 3"
    },
    "language_info": {
      "name": "python"
    }
  },
  "cells": [
    {
      "cell_type": "markdown",
      "metadata": {
        "id": "view-in-github",
        "colab_type": "text"
      },
      "source": [
        "<a href=\"https://colab.research.google.com/github/pauloladapo13/DLearning/blob/master/NumpyArrays.ipynb\" target=\"_parent\"><img src=\"https://colab.research.google.com/assets/colab-badge.svg\" alt=\"Open In Colab\"/></a>"
      ]
    },
    {
      "cell_type": "code",
      "execution_count": 1,
      "metadata": {
        "colab": {
          "base_uri": "https://localhost:8080/"
        },
        "id": "vcZ96ewSv67h",
        "outputId": "dbc8028a-b330-4898-afe0-54f7b6b0fb3f"
      },
      "outputs": [
        {
          "output_type": "stream",
          "name": "stdout",
          "text": [
            "[[10 20 30]\n",
            " [40 50 50]\n",
            " [70 80 90]]\n",
            "[0. 0. 0. 0. 0.]\n",
            "\n",
            "**********************************\n",
            "[[0. 0. 0. 0.]\n",
            " [0. 0. 0. 0.]\n",
            " [0. 0. 0. 0.]\n",
            " [0. 0. 0. 0.]]\n",
            "\n",
            "********************************\n",
            "[1. 1. 1. 1.]\n",
            "\n",
            "****************************\n",
            "[[1 1]\n",
            " [1 1]\n",
            " [1 1]]\n",
            "\n",
            "**************************\n",
            "[[0.31347986 0.30965019 0.50392807 0.50972475]\n",
            " [0.71149336 0.19923975 0.19183648 0.83872739]\n",
            " [0.5809474  0.52530647 0.87954295 0.33500367]\n",
            " [0.86159052 0.68471306 0.34631266 0.90345846]\n",
            " [0.03452668 0.77540006 0.7258586  0.97301765]]\n",
            "\n",
            "**************************\n",
            "[[1. 0. 0. 0.]\n",
            " [0. 1. 0. 0.]\n",
            " [0. 0. 1. 0.]\n",
            " [0. 0. 0. 1.]]\n",
            "\n",
            "**************************\n",
            "[[1 0]\n",
            " [0 1]]\n",
            "\n",
            "**************************\n",
            "[[ 0  1  2  3]\n",
            " [ 4  5  6  7]\n",
            " [ 8  9 10 11]]\n",
            "[[ 4  5  6  7]\n",
            " [ 8  9 10 11]]\n",
            "      weight     dob    hobby\n",
            "Max    100.0  1970.0  Singing\n",
            "Ram     60.0  1990.0      NaN\n",
            "Ram      NaN     NaN  Reading\n",
            "Sam     80.0  1991.0      NaN\n"
          ]
        }
      ],
      "source": [
        "import pandas as pd\n",
        "import numpy as np\n",
        "array1 = np.array([[10, 20, 30], [40, 50, 50], [70, 80, 90]])\n",
        "print(array1)\n",
        "\n",
        "zero_arr1 = np.zeros(5)\n",
        "print(zero_arr1)\n",
        "print('\\n**********************************')\n",
        "\n",
        "zero_arr2= np.zeros((4,4))\n",
        "print(zero_arr2)\n",
        "\n",
        "print(\"\\n********************************\")\n",
        "one_arr1= np.ones(4)\n",
        "print(one_arr1)\n",
        "print(\"\\n****************************\")\n",
        "\n",
        "one_arr2 = np.ones((3,2), dtype= int)\n",
        "print(one_arr2)\n",
        "\n",
        "print(\"\\n**************************\")\n",
        "\n",
        "rand_arr = np.random.rand(5,4)\n",
        "print(rand_arr)\n",
        "\n",
        "print(\"\\n**************************\")\n",
        "\n",
        "\n",
        "iden_arr1 = np.eye(4)\n",
        "print(iden_arr1)\n",
        "\n",
        "print(\"\\n**************************\")\n",
        "\n",
        "\n",
        "iden_arr2= np.eye(2, dtype= int)\n",
        "print(iden_arr2)\n",
        "\n",
        "print(\"\\n**************************\")\n",
        "\n",
        "a = np.arange(12).reshape(3, 4)\n",
        "print(a)\n",
        "\n",
        "rows = np.array([False, True, True])\n",
        "a=a[rows, : ]\n",
        "print(a)\n",
        "\n",
        "em= pd.DataFrame({\"weight\": pd.Series([60, 80, 100], index=[\"Ram\", \"Sam\", \"Max\"]), \"dob\": pd.Series([1990,1970,1991], index=[\"Ram\", \"Max\", \"Sam\"], name=\"year\"), \"hobby\": pd.Series([\"Reading\", \"Singing\"], index=[\"Ram \", \"Max\"])})\n",
        "print(em)\n",
        "# head(n) or tail(n); to display the top\n",
        "# info(): to display information\n",
        "# describe(): to display handy aggregate and statistical information\n"
      ]
    }
  ]
}